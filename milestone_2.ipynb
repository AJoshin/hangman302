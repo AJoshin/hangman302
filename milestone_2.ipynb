{
  "nbformat": 4,
  "nbformat_minor": 0,
  "metadata": {
    "colab": {
      "provenance": [],
      "authorship_tag": "ABX9TyPX2HZ9tFLHHfWKu3GaY5g3",
      "include_colab_link": true
    },
    "kernelspec": {
      "name": "python3",
      "display_name": "Python 3"
    },
    "language_info": {
      "name": "python"
    }
  },
  "cells": [
    {
      "cell_type": "markdown",
      "metadata": {
        "id": "view-in-github",
        "colab_type": "text"
      },
      "source": [
        "<a href=\"https://colab.research.google.com/github/AJoshin/hangman302/blob/main/milestone_2.ipynb\" target=\"_parent\"><img src=\"https://colab.research.google.com/assets/colab-badge.svg\" alt=\"Open In Colab\"/></a>"
      ]
    },
    {
      "cell_type": "code",
      "source": [
        "\n",
        "import random\n",
        "word_list = ['apple', 'banana', 'orange', 'grape', 'water melon']\n",
        "word = random.SystemRandom()\n",
        "print(word.choice(word_list))\n",
        "\n",
        "\n"
      ],
      "metadata": {
        "colab": {
          "base_uri": "https://localhost:8080/"
        },
        "id": "hwFBlAqnCJjR",
        "outputId": "5377ff21-f456-45db-8ef1-b616096b4d0f"
      },
      "execution_count": 57,
      "outputs": [
        {
          "output_type": "stream",
          "name": "stdout",
          "text": [
            "apple\n"
          ]
        }
      ]
    },
    {
      "cell_type": "code",
      "source": [
        "import random\n",
        "word_list = ['apple', 'banana', 'orange', 'grape', 'water melon']\n",
        "\n",
        "print(word.choice(word_list))"
      ],
      "metadata": {
        "colab": {
          "base_uri": "https://localhost:8080/"
        },
        "id": "p45egLWEFqxX",
        "outputId": "745e6246-da6c-4d47-cdbf-7df2c417408a"
      },
      "execution_count": 54,
      "outputs": [
        {
          "output_type": "stream",
          "name": "stdout",
          "text": [
            "water melon\n"
          ]
        }
      ]
    },
    {
      "cell_type": "code",
      "source": [
        "guess = input(\"Enter a single letter \")\n",
        "print(guess)\n",
        "\n"
      ],
      "metadata": {
        "colab": {
          "base_uri": "https://localhost:8080/"
        },
        "id": "CGKYVtedF_dm",
        "outputId": "71279d89-514c-43e9-9b44-fb4251468df9"
      },
      "execution_count": 63,
      "outputs": [
        {
          "output_type": "stream",
          "name": "stdout",
          "text": [
            "Enter a single letter banana\n",
            "banana\n"
          ]
        }
      ]
    },
    {
      "cell_type": "code",
      "source": [
        "while True:\n",
        "    guess = input(\"Enter a single letter \")\n",
        "\n",
        "\n",
        "    if len(guess) == 1:\n",
        "\n",
        "        print('good guess')\n",
        "        continue\n",
        "    else:\n",
        "        print('block that prints \"Oops! That is not a valid input.')\n",
        "        break\n",
        "\n",
        "print(guess)"
      ],
      "metadata": {
        "colab": {
          "base_uri": "https://localhost:8080/"
        },
        "id": "Nx9zmwB9OFeL",
        "outputId": "2f479993-27ce-401c-888c-068eb939d1fa"
      },
      "execution_count": null,
      "outputs": [
        {
          "output_type": "stream",
          "name": "stdout",
          "text": [
            "Enter a single letter a\n",
            "good guess\n"
          ]
        }
      ]
    },
    {
      "cell_type": "code",
      "source": [
        " i = -1\n",
        " size = len(guess)\n",
        "\n",
        "while True:\n",
        "    guess = input(\"Enter a single letter \")\n",
        "\n",
        "    i < size - 1\n",
        "\n",
        "    i = i + 1\n",
        "\n",
        "    if len(guess) == 1:\n",
        "    if not guess[i].isalpha():\n",
        "\n",
        "        print('good guess')\n",
        "        continue\n",
        "    else:\n",
        "        print(guess [i],'block that prints \"Oops! That is not a valid input.')\n",
        "        break\n",
        "\n",
        "print(guess)"
      ],
      "metadata": {
        "id": "eM44pORTJ33R"
      },
      "execution_count": null,
      "outputs": []
    }
  ]
}